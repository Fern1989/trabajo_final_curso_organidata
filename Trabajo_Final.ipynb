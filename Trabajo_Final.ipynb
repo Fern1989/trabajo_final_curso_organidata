{
 "cells": [
  {
   "cell_type": "code",
   "execution_count": null,
   "id": "found-classroom",
   "metadata": {},
   "outputs": [],
   "source": [
    "#ANALISIS DE DATOS - TRABAJO FINAL- MARIA FERNANDA PEREYRA\n",
    "##POBLACION MUNDIAL AÑO 2020 / Análisis de datos con Python\n",
    "\n",
    "#vamos a trabajar con la herramienta 'pandas' y vamos a utilizar el set de datos'population_by_country_2020.csv' con el metodo de lectura\n"
   ]
  },
  {
   "cell_type": "code",
   "execution_count": 1,
   "id": "according-collapse",
   "metadata": {},
   "outputs": [],
   "source": [
    "import pandas as pd"
   ]
  },
  {
   "cell_type": "code",
   "execution_count": null,
   "id": "upset-collective",
   "metadata": {},
   "outputs": [],
   "source": [
    "path = ''"
   ]
  }
 ],
 "metadata": {
  "kernelspec": {
   "display_name": "Python 3",
   "language": "python",
   "name": "python3"
  },
  "language_info": {
   "codemirror_mode": {
    "name": "ipython",
    "version": 3
   },
   "file_extension": ".py",
   "mimetype": "text/x-python",
   "name": "python",
   "nbconvert_exporter": "python",
   "pygments_lexer": "ipython3",
   "version": "3.8.5"
  }
 },
 "nbformat": 4,
 "nbformat_minor": 5
}
